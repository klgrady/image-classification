{
 "cells": [
  {
   "cell_type": "markdown",
   "metadata": {
    "collapsed": true
   },
   "source": [
    "# Image Classification\n",
    "In this project, you'll classify images from the [CIFAR-10 dataset](https://www.cs.toronto.edu/~kriz/cifar.html).  The dataset consists of airplanes, dogs, cats, and other objects. You'll preprocess the images, then train a convolutional neural network on all the samples. The images need to be normalized and the labels need to be one-hot encoded.  You'll get to apply what you learned and build a convolutional, max pooling, dropout, and fully connected layers.  At the end, you'll get to see your neural network's predictions on the sample images.\n",
    "## Get the Data\n",
    "Run the following cell to download the [CIFAR-10 dataset for python](https://www.cs.toronto.edu/~kriz/cifar-10-python.tar.gz)."
   ]
  },
  {
   "cell_type": "code",
   "execution_count": 2,
   "metadata": {},
   "outputs": [
    {
     "name": "stdout",
     "output_type": "stream",
     "text": [
      "All files found!\n"
     ]
    }
   ],
   "source": [
    "\"\"\"\n",
    "DON'T MODIFY ANYTHING IN THIS CELL THAT IS BELOW THIS LINE\n",
    "\"\"\"\n",
    "from urllib.request import urlretrieve\n",
    "from os.path import isfile, isdir\n",
    "from tqdm import tqdm\n",
    "import problem_unittests as tests\n",
    "import tarfile\n",
    "\n",
    "cifar10_dataset_folder_path = 'cifar-10-batches-py'\n",
    "\n",
    "class DLProgress(tqdm):\n",
    "    last_block = 0\n",
    "\n",
    "    def hook(self, block_num=1, block_size=1, total_size=None):\n",
    "        self.total = total_size\n",
    "        self.update((block_num - self.last_block) * block_size)\n",
    "        self.last_block = block_num\n",
    "\n",
    "if not isfile('cifar-10-python.tar.gz'):\n",
    "    with DLProgress(unit='B', unit_scale=True, miniters=1, desc='CIFAR-10 Dataset') as pbar:\n",
    "        urlretrieve(\n",
    "            'https://www.cs.toronto.edu/~kriz/cifar-10-python.tar.gz',\n",
    "            'cifar-10-python.tar.gz',\n",
    "            pbar.hook)\n",
    "\n",
    "if not isdir(cifar10_dataset_folder_path):\n",
    "    with tarfile.open('cifar-10-python.tar.gz') as tar:\n",
    "        tar.extractall()\n",
    "        tar.close()\n",
    "\n",
    "\n",
    "tests.test_folder_path(cifar10_dataset_folder_path)"
   ]
  },
  {
   "cell_type": "markdown",
   "metadata": {},
   "source": [
    "## Explore the Data\n",
    "The dataset is broken into batches to prevent your machine from running out of memory.  The CIFAR-10 dataset consists of 5 batches, named `data_batch_1`, `data_batch_2`, etc.. Each batch contains the labels and images that are one of the following:\n",
    "* airplane\n",
    "* automobile\n",
    "* bird\n",
    "* cat\n",
    "* deer\n",
    "* dog\n",
    "* frog\n",
    "* horse\n",
    "* ship\n",
    "* truck\n",
    "\n",
    "Understanding a dataset is part of making predictions on the data.  Play around with the code cell below by changing the `batch_id` and `sample_id`. The `batch_id` is the id for a batch (1-5). The `sample_id` is the id for a image and label pair in the batch.\n",
    "\n",
    "Ask yourself \"What are all possible labels?\", \"What is the range of values for the image data?\", \"Are the labels in order or random?\".  Answers to questions like these will help you preprocess the data and end up with better predictions."
   ]
  },
  {
   "cell_type": "code",
   "execution_count": 3,
   "metadata": {},
   "outputs": [
    {
     "name": "stdout",
     "output_type": "stream",
     "text": [
      "\n",
      "Stats of batch 5:\n",
      "Samples: 10000\n",
      "Label Counts: {0: 1014, 1: 1014, 2: 952, 3: 1016, 4: 997, 5: 1025, 6: 980, 7: 977, 8: 1003, 9: 1022}\n",
      "First 20 Labels: [1, 8, 5, 1, 5, 7, 4, 3, 8, 2, 7, 2, 0, 1, 5, 9, 6, 2, 0, 8]\n",
      "\n",
      "Example of Image 42:\n",
      "Image - Min Value: 9 Max Value: 255\n",
      "Image - Shape: (32, 32, 3)\n",
      "Label - Label Id: 9 Name: truck\n"
     ]
    },
    {
     "data": {
      "image/png": "[encoded data removed]",
      "text/plain": [
       "<matplotlib.figure.Figure at 0x2bccc28ea58>"
      ]
     },
     "metadata": {
      "image/png": {
       "height": 250,
       "width": 253
      }
     },
     "output_type": "display_data"
    }
   ],
   "source": [
    "%matplotlib inline\n",
    "%config InlineBackend.figure_format = 'retina'\n",
    "\n",
    "import helper\n",
    "import numpy as np\n",
    "\n",
    "#global variable to fit one hot encoding labels\n",
    "one_hot_list = [0, 1, 2, 3, 4, 5, 6, 7, 8, 9]\n",
    "\n",
    "# Explore the dataset\n",
    "batch_id = 5\n",
    "sample_id = 42\n",
    "helper.display_stats(cifar10_dataset_folder_path, batch_id, sample_id)"
   ]
  },
  {
   "cell_type": "markdown",
   "metadata": {},
   "source": [
    "## Implement Preprocess Functions\n",
    "### Normalize\n",
    "In the cell below, implement the `normalize` function to take in image data, `x`, and return it as a normalized Numpy array. The values should be in the range of 0 to 1, inclusive.  The return object should be the same shape as `x`."
   ]
  },
  {
   "cell_type": "code",
   "execution_count": 37,
   "metadata": {},
   "outputs": [
    {
     "name": "stdout",
     "output_type": "stream",
     "text": [
      "Tests Passed\n"
     ]
    }
   ],
   "source": [
    "def normalize(x):\n",
    "    \"\"\"\n",
    "    Normalize a list of sample image data in the range of 0 to 1\n",
    "    : x: List of image data.  The image shape is (32, 32, 3)\n",
    "    : return: Numpy array of normalize data\n",
    "    \"\"\"\n",
    "    # TODO: Implement Function\n",
    "\n",
    "    x = np.array(x)\n",
    "    x = x/255.0\n",
    "\n",
    "\n",
    "    \n",
    "    return x\n",
    "\n",
    "\n",
    "\n",
    "\"\"\"\n",
    "DON'T MODIFY ANYTHING IN THIS CELL THAT IS BELOW THIS LINE\n",
    "\"\"\"\n",
    "tests.test_normalize(normalize)"
   ]
  },
  {
   "cell_type": "markdown",
   "metadata": {},
   "source": [
    "### One-hot encode\n",
    "Just like the previous code cell, you'll be implementing a function for preprocessing.  This time, you'll implement the `one_hot_encode` function. The input, `x`, are a list of labels.  Implement the function to return the list of labels as One-Hot encoded Numpy array.  The possible values for labels are 0 to 9. The one-hot encoding function should return the same encoding for each value between each call to `one_hot_encode`.  Make sure to save the map of encodings outside the function.\n",
    "\n",
    "**Hint:**\n",
    "\n",
    "Look into LabelBinarizer in the preprocessing module of sklearn."
   ]
  },
  {
   "cell_type": "code",
   "execution_count": 5,
   "metadata": {},
   "outputs": [
    {
     "name": "stdout",
     "output_type": "stream",
     "text": [
      "Tests Passed\n"
     ]
    }
   ],
   "source": [
    "def one_hot_encode(x):\n",
    "    \"\"\"\n",
    "    One hot encode a list of sample labels. Return a one-hot encoded vector for each label.\n",
    "    : x: List of sample Labels\n",
    "    : return: Numpy array of one-hot encoded labels\n",
    "    \"\"\"\n",
    "    # TODO: Implement Function\n",
    "    from sklearn import preprocessing\n",
    "    lb = preprocessing.LabelBinarizer()\n",
    "    lb.fit(one_hot_list)\n",
    "    return lb.transform(x)\n",
    "\n",
    "\n",
    "\"\"\"\n",
    "DON'T MODIFY ANYTHING IN THIS CELL THAT IS BELOW THIS LINE\n",
    "\"\"\"\n",
    "tests.test_one_hot_encode(one_hot_encode)"
   ]
  },
  {
   "cell_type": "markdown",
   "metadata": {},
   "source": [
    "### Randomize Data\n",
    "As you saw from exploring the data above, the order of the samples are randomized.  It doesn't hurt to randomize it again, but you don't need to for this dataset."
   ]
  },
  {
   "cell_type": "markdown",
   "metadata": {},
   "source": [
    "## Preprocess all the data and save it\n",
    "Running the code cell below will preprocess all the CIFAR-10 data and save it to file. The code below also uses 10% of the training data for validation."
   ]
  },
  {
   "cell_type": "code",
   "execution_count": 6,
   "metadata": {},
   "outputs": [],
   "source": [
    "\"\"\"\n",
    "DON'T MODIFY ANYTHING IN THIS CELL\n",
    "\"\"\"\n",
    "# Preprocess Training, Validation, and Testing Data\n",
    "helper.preprocess_and_save_data(cifar10_dataset_folder_path, normalize, one_hot_encode)"
   ]
  },
  {
   "cell_type": "markdown",
   "metadata": {},
   "source": [
    "# Check Point\n",
    "This is your first checkpoint.  If you ever decide to come back to this notebook or have to restart the notebook, you can start from here.  The preprocessed data has been saved to disk."
   ]
  },
  {
   "cell_type": "code",
   "execution_count": 7,
   "metadata": {
    "collapsed": true
   },
   "outputs": [],
   "source": [
    "\"\"\"\n",
    "DON'T MODIFY ANYTHING IN THIS CELL\n",
    "\"\"\"\n",
    "import pickle\n",
    "import problem_unittests as tests\n",
    "import helper\n",
    "\n",
    "# Load the Preprocessed Validation data\n",
    "valid_features, valid_labels = pickle.load(open('preprocess_validation.p', mode='rb'))"
   ]
  },
  {
   "cell_type": "markdown",
   "metadata": {},
   "source": [
    "## Build the network\n",
    "For the neural network, you'll build each layer into a function.  Most of the code you've seen has been outside of functions. To test your code more thoroughly, we require that you put each layer in a function.  This allows us to give you better feedback and test for simple mistakes using our unittests before you submit your project.\n",
    "\n",
    ">**Note:** If you're finding it hard to dedicate enough time for this course each week, we've provided a small shortcut to this part of the project. In the next couple of problems, you'll have the option to use classes from the [TensorFlow Layers](https://www.tensorflow.org/api_docs/python/tf/layers) or [TensorFlow Layers (contrib)](https://www.tensorflow.org/api_guides/python/contrib.layers) packages to build each layer, except the layers you build in the \"Convolutional and Max Pooling Layer\" section.  TF Layers is similar to Keras's and TFLearn's abstraction to layers, so it's easy to pickup.\n",
    "\n",
    ">However, if you would like to get the most out of this course, try to solve all the problems _without_ using anything from the TF Layers packages. You **can** still use classes from other packages that happen to have the same name as ones you find in TF Layers! For example, instead of using the TF Layers version of the `conv2d` class, [tf.layers.conv2d](https://www.tensorflow.org/api_docs/python/tf/layers/conv2d), you would want to use the TF Neural Network version of `conv2d`, [tf.nn.conv2d](https://www.tensorflow.org/api_docs/python/tf/nn/conv2d). \n",
    "\n",
    "Let's begin!\n",
    "\n",
    "### Input\n",
    "The neural network needs to read the image data, one-hot encoded labels, and dropout keep probability. Implement the following functions\n",
    "* Implement `neural_net_image_input`\n",
    " * Return a [TF Placeholder](https://www.tensorflow.org/api_docs/python/tf/placeholder)\n",
    " * Set the shape using `image_shape` with batch size set to `None`.\n",
    " * Name the TensorFlow placeholder \"x\" using the TensorFlow `name` parameter in the [TF Placeholder](https://www.tensorflow.org/api_docs/python/tf/placeholder).\n",
    "* Implement `neural_net_label_input`\n",
    " * Return a [TF Placeholder](https://www.tensorflow.org/api_docs/python/tf/placeholder)\n",
    " * Set the shape using `n_classes` with batch size set to `None`.\n",
    " * Name the TensorFlow placeholder \"y\" using the TensorFlow `name` parameter in the [TF Placeholder](https://www.tensorflow.org/api_docs/python/tf/placeholder).\n",
    "* Implement `neural_net_keep_prob_input`\n",
    " * Return a [TF Placeholder](https://www.tensorflow.org/api_docs/python/tf/placeholder) for dropout keep probability.\n",
    " * Name the TensorFlow placeholder \"keep_prob\" using the TensorFlow `name` parameter in the [TF Placeholder](https://www.tensorflow.org/api_docs/python/tf/placeholder).\n",
    "\n",
    "These names will be used at the end of the project to load your saved model.\n",
    "\n",
    "Note: `None` for shapes in TensorFlow allow for a dynamic size."
   ]
  },
  {
   "cell_type": "code",
   "execution_count": 8,
   "metadata": {},
   "outputs": [
    {
     "name": "stdout",
     "output_type": "stream",
     "text": [
      "Image Input Tests Passed.\n",
      "Label Input Tests Passed.\n",
      "Keep Prob Tests Passed.\n"
     ]
    }
   ],
   "source": [
    "import tensorflow as tf\n",
    "\n",
    "def neural_net_image_input(image_shape):\n",
    "    \"\"\"\n",
    "    Return a Tensor for a batch of image input\n",
    "    : image_shape: Shape of the images\n",
    "    : return: Tensor for image input.\n",
    "    \"\"\"\n",
    "    # TODO: Implement Function\n",
    "    pass_shape = list(image_shape)\n",
    "    pass_shape.insert(0, None)\n",
    "    tuple(pass_shape)\n",
    "    return tf.placeholder(tf.float32, shape=pass_shape, name=\"x\")\n",
    "\n",
    "\n",
    "def neural_net_label_input(n_classes):\n",
    "    \"\"\"\n",
    "    Return a Tensor for a batch of label input\n",
    "    : n_classes: Number of classes\n",
    "    : return: Tensor for label input.\n",
    "    \"\"\"\n",
    "    # TODO: Implement Function\n",
    "    class_shape = [None, n_classes]\n",
    "    tuple(class_shape)\n",
    "    return tf.placeholder(tf.int32, shape=class_shape, name=\"y\")\n",
    "\n",
    "\n",
    "def neural_net_keep_prob_input():\n",
    "    \"\"\"\n",
    "    Return a Tensor for keep probability\n",
    "    : return: Tensor for keep probability.\n",
    "    \"\"\"\n",
    "    # TODO: Implement Function\n",
    "    return tf.placeholder(tf.float32, name=\"keep_prob\")\n",
    "\n",
    "\n",
    "\"\"\"\n",
    "DON'T MODIFY ANYTHING IN THIS CELL THAT IS BELOW THIS LINE\n",
    "\"\"\"\n",
    "tf.reset_default_graph()\n",
    "tests.test_nn_image_inputs(neural_net_image_input)\n",
    "tests.test_nn_label_inputs(neural_net_label_input)\n",
    "tests.test_nn_keep_prob_inputs(neural_net_keep_prob_input)"
   ]
  },
  {
   "cell_type": "markdown",
   "metadata": {},
   "source": [
    "### Convolution and Max Pooling Layer\n",
    "Convolution layers have a lot of success with images. For this code cell, you should implement the function `conv2d_maxpool` to apply convolution then max pooling:\n",
    "* Create the weight and bias using `conv_ksize`, `conv_num_outputs` and the shape of `x_tensor`.\n",
    "* Apply a convolution to `x_tensor` using weight and `conv_strides`.\n",
    " * We recommend you use same padding, but you're welcome to use any padding.\n",
    "* Add bias\n",
    "* Add a nonlinear activation to the convolution.\n",
    "* Apply Max Pooling using `pool_ksize` and `pool_strides`.\n",
    " * We recommend you use same padding, but you're welcome to use any padding.\n",
    "\n",
    "**Note:** You **can't** use [TensorFlow Layers](https://www.tensorflow.org/api_docs/python/tf/layers) or [TensorFlow Layers (contrib)](https://www.tensorflow.org/api_guides/python/contrib.layers) for **this** layer, but you can still use TensorFlow's [Neural Network](https://www.tensorflow.org/api_docs/python/tf/nn) package. You may still use the shortcut option for all the **other** layers.\n",
    "\n",
    "** Hint: **\n",
    "\n",
    "When unpacking values as an argument in Python, look into the [unpacking](https://docs.python.org/3/tutorial/controlflow.html#unpacking-argument-lists) operator. "
   ]
  },
  {
   "cell_type": "code",
   "execution_count": 22,
   "metadata": {},
   "outputs": [
    {
     "name": "stdout",
     "output_type": "stream",
     "text": [
      "Tests Passed\n"
     ]
    }
   ],
   "source": [
    "def conv2d_maxpool(x_tensor, conv_num_outputs, conv_ksize, conv_strides, pool_ksize, pool_strides):\n",
    "    \"\"\"\n",
    "    Apply convolution then max pooling to x_tensor\n",
    "    :param x_tensor: TensorFlow Tensor\n",
    "    :param conv_num_outputs: Number of outputs for the convolutional layer\n",
    "    :param conv_ksize: kernal size 2-D Tuple for the convolutional layer\n",
    "    :param conv_strides: Stride 2-D Tuple for convolution\n",
    "    :param pool_ksize: kernal size 2-D Tuple for pool\n",
    "    :param pool_strides: Stride 2-D Tuple for pool\n",
    "    : return: A tensor that represents convolution and max pooling of x_tensor\n",
    "    \"\"\"\n",
    "    # TODO: Implement Function\n",
    "    import math\n",
    "    \n",
    "    _, image_height, image_width, image_depth = x_tensor.shape\n",
    "    filter_size_height, filter_size_width = conv_ksize\n",
    "    stride_height, stride_width = conv_strides\n",
    "    color_channels = x_tensor.shape.as_list()[3]\n",
    "    num_inputs = x_tensor.shape.as_list()[3] * x_tensor.shape.as_list()[2] * x_tensor.shape.as_list()[1]\n",
    "    \n",
    "\n",
    "    cstrides = [1, *conv_strides, 1]\n",
    "    kstrides = [1, *pool_strides, 1]\n",
    "    \n",
    "    weight = tf.Variable(tf.random_normal([*conv_ksize, color_channels, conv_num_outputs], stddev=0.1))\n",
    "    bias = tf.Variable(tf.zeros(conv_num_outputs))\n",
    "\n",
    "    conv_layer = tf.nn.conv2d(x_tensor, weight, strides=cstrides, padding='SAME') + bias\n",
    "    conv_layer = tf.nn.bias_add(conv_layer, bias)\n",
    "    conv_layer = tf.nn.relu(conv_layer)\n",
    "    conv_layer = tf.nn.max_pool(conv_layer, ksize=[1, *pool_ksize, 1], strides=kstrides, padding='SAME')\n",
    "        \n",
    "    return conv_layer \n",
    "\n",
    "\n",
    "\"\"\"\n",
    "DON'T MODIFY ANYTHING IN THIS CELL THAT IS BELOW THIS LINE\n",
    "\"\"\"\n",
    "tests.test_con_pool(conv2d_maxpool)"
   ]
  },
  {
   "cell_type": "markdown",
   "metadata": {},
   "source": [
    "### Flatten Layer\n",
    "Implement the `flatten` function to change the dimension of `x_tensor` from a 4-D tensor to a 2-D tensor.  The output should be the shape (*Batch Size*, *Flattened Image Size*). Shortcut option: you can use classes from the [TensorFlow Layers](https://www.tensorflow.org/api_docs/python/tf/layers) or [TensorFlow Layers (contrib)](https://www.tensorflow.org/api_guides/python/contrib.layers) packages for this layer. For more of a challenge, only use other TensorFlow packages."
   ]
  },
  {
   "cell_type": "code",
   "execution_count": 10,
   "metadata": {},
   "outputs": [
    {
     "name": "stdout",
     "output_type": "stream",
     "text": [
      "Tests Passed\n"
     ]
    }
   ],
   "source": [
    "def flatten(x_tensor):\n",
    "    \"\"\"\n",
    "    Flatten x_tensor to (Batch Size, Flattened Image Size)\n",
    "    : x_tensor: A tensor of size (Batch Size, ...), where ... are the image dimensions.\n",
    "    : return: A tensor of size (Batch Size, Flattened Image Size).\n",
    "    \"\"\"\n",
    "    # TODO: Implement Function\n",
    "    #from tensorflow.contrib.layers import flatten\n",
    "    \n",
    "    \n",
    "    _, height, width, depth = x_tensor.shape.as_list()\n",
    "    batch_size=height * width * depth\n",
    "    flat_tensor = tf.reshape(x_tensor, [-1, batch_size])\n",
    "    return flat_tensor\n",
    "\n",
    "    #return flatten(x_tensor)\n",
    "\n",
    "\n",
    "\"\"\"\n",
    "DON'T MODIFY ANYTHING IN THIS CELL THAT IS BELOW THIS LINE\n",
    "\"\"\"\n",
    "tests.test_flatten(flatten)"
   ]
  },
  {
   "cell_type": "markdown",
   "metadata": {},
   "source": [
    "### Fully-Connected Layer\n",
    "Implement the `fully_conn` function to apply a fully connected layer to `x_tensor` with the shape (*Batch Size*, *num_outputs*). Shortcut option: you can use classes from the [TensorFlow Layers](https://www.tensorflow.org/api_docs/python/tf/layers) or [TensorFlow Layers (contrib)](https://www.tensorflow.org/api_guides/python/contrib.layers) packages for this layer. For more of a challenge, only use other TensorFlow packages."
   ]
  },
  {
   "cell_type": "code",
   "execution_count": 24,
   "metadata": {},
   "outputs": [
    {
     "name": "stdout",
     "output_type": "stream",
     "text": [
      "Tests Passed\n"
     ]
    }
   ],
   "source": [
    "def fully_conn(x_tensor, num_outputs):\n",
    "    \"\"\"\n",
    "    Apply a fully connected layer to x_tensor using weight and bias\n",
    "    : x_tensor: A 2-D tensor where the first dimension is batch size.\n",
    "    : num_outputs: The number of output that the new tensor should be.\n",
    "    : drop_rate: keep probability\n",
    "    : return: A 2-D tensor where the second dimension is num_outputs.\n",
    "    \"\"\"\n",
    "    # TODO: Implement Function\n",
    "    import math\n",
    "\n",
    "    import tensorflow as tf\n",
    "\n",
    "    #return tf.layers.dense(x_tensor, num_outputs, activation=tf.nn.relu)\n",
    "    \n",
    "    batch_size = x_tensor.shape.as_list()[1]\n",
    "    \n",
    "    weights = tf.Variable(tf.truncated_normal([batch_size, num_outputs], stddev=0.1))\n",
    "    bias = tf.Variable(tf.random_normal([num_outputs]))\n",
    "     \n",
    "    x_tensor = tf.reshape(x_tensor, [-1, batch_size])\n",
    "    \n",
    "    x_tensor=tf.add(tf.matmul(x_tensor, weights), bias)\n",
    "    x_tensor=tf.nn.relu(x_tensor)\n",
    "    #x_tensor=tf.nn.dropout(x_tensor, drop_rate)\n",
    "\n",
    "    return x_tensor\n",
    "\n",
    "\n",
    "\"\"\"\n",
    "DON'T MODIFY ANYTHING IN THIS CELL THAT IS BELOW THIS LINE\n",
    "\"\"\"\n",
    "tests.test_fully_conn(fully_conn)"
   ]
  },
  {
   "cell_type": "markdown",
   "metadata": {},
   "source": [
    "### Output Layer\n",
    "Implement the `output` function to apply a fully connected layer to `x_tensor` with the shape (*Batch Size*, *num_outputs*). Shortcut option: you can use classes from the [TensorFlow Layers](https://www.tensorflow.org/api_docs/python/tf/layers) or [TensorFlow Layers (contrib)](https://www.tensorflow.org/api_guides/python/contrib.layers) packages for this layer. For more of a challenge, only use other TensorFlow packages.\n",
    "\n",
    "**Note:** Activation, softmax, or cross entropy should **not** be applied to this."
   ]
  },
  {
   "cell_type": "code",
   "execution_count": 25,
   "metadata": {},
   "outputs": [
    {
     "name": "stdout",
     "output_type": "stream",
     "text": [
      "Tests Passed\n"
     ]
    }
   ],
   "source": [
    "def output(x_tensor, num_outputs):\n",
    "    \"\"\"\n",
    "    Apply a output layer to x_tensor using weight and bias\n",
    "    : x_tensor: A 2-D tensor where the first dimension is batch size.\n",
    "    : num_outputs: The number of output that the new tensor should be.\n",
    "    : return: A 2-D tensor where the second dimension is num_outputs.\n",
    "    \"\"\"\n",
    "    # TODO: Implement Function\n",
    "    import tensorflow as tf\n",
    "    \n",
    "    batch_size = x_tensor.shape.as_list()[1]\n",
    "    weight = tf.Variable(tf.random_normal((batch_size, num_outputs), stddev=0.1))\n",
    "    bias = tf.Variable(tf.zeros(num_outputs))\n",
    "    x_tensor = tf.add(tf.matmul(x_tensor, weight), bias)\n",
    "    return x_tensor\n",
    "    \n",
    "    #return tf.layers.dense(x_tensor, num_outputs)\n",
    "    \n",
    "\n",
    "\n",
    "\"\"\"\n",
    "DON'T MODIFY ANYTHING IN THIS CELL THAT IS BELOW THIS LINE\n",
    "\"\"\"\n",
    "tests.test_output(output)"
   ]
  },
  {
   "cell_type": "code",
   "execution_count": null,
   "metadata": {
    "collapsed": true
   },
   "outputs": [],
   "source": []
  },
  {
   "cell_type": "markdown",
   "metadata": {},
   "source": [
    "### Create Convolutional Model\n",
    "Implement the function `conv_net` to create a convolutional neural network model. The function takes in a batch of images, `x`, and outputs logits.  Use the layers you created above to create this model:\n",
    "\n",
    "* Apply 1, 2, or 3 Convolution and Max Pool layers\n",
    "* Apply a Flatten Layer\n",
    "* Apply 1, 2, or 3 Fully Connected Layers\n",
    "* Apply an Output Layer\n",
    "* Return the output\n",
    "* Apply [TensorFlow's Dropout](https://www.tensorflow.org/api_docs/python/tf/nn/dropout) to one or more layers in the model using `keep_prob`. "
   ]
  },
  {
   "cell_type": "code",
   "execution_count": 48,
   "metadata": {},
   "outputs": [
    {
     "name": "stdout",
     "output_type": "stream",
     "text": [
      "Neural Network Built!\n"
     ]
    }
   ],
   "source": [
    "def conv_net(x, keep_prob):\n",
    "    \"\"\"\n",
    "    Create a convolutional neural network model\n",
    "    : x: Placeholder tensor that holds image data.\n",
    "    : keep_prob: Placeholder tensor that hold dropout keep probability.\n",
    "    : return: Tensor that represents logits\n",
    "    \"\"\"\n",
    "    # TODO: Apply 1, 2, or 3 Convolution and Max Pool layers\n",
    "    #    Play around with different number of outputs, kernel size and stride\n",
    "    # Function Definition from Above:\n",
    "    #    conv2d_maxpool(x_tensor, conv_num_outputs, conv_ksize, conv_strides, pool_ksize, pool_strides)\n",
    "    \n",
    "    kernel = {\n",
    "        'conv1': (4, 4),\n",
    "        'conv2': (4, 4),\n",
    "        'conv3': (4, 4),\n",
    "        'pool1': (2, 2),\n",
    "        'pool2': (2, 2),\n",
    "        'pool3': (2, 2)\n",
    "    }\n",
    "    \n",
    "    stride = {\n",
    "        'conv1': (1, 1),\n",
    "        'conv2': (1, 1),\n",
    "        'conv3': (1, 1),\n",
    "        'pool1': (2, 2),\n",
    "        'pool2': (2, 2), \n",
    "        'pool3': (2, 2)\n",
    "    }\n",
    "    \n",
    "    outputs = {\n",
    "        'layer1': 32,\n",
    "        'layer2': 64,\n",
    "        'layer3': 128\n",
    "    }\n",
    "    \n",
    "    #Layer1 \n",
    "    x_tensor = conv2d_maxpool(x, outputs['layer1'], kernel['conv1'], stride['conv1'], kernel['pool1'], stride['pool1'])\n",
    "    \n",
    "    #Layer2 - no pooling\n",
    "    x_tensor = conv2d_maxpool(x_tensor, outputs['layer2'], kernel['conv2'], stride['conv2'], kernel['pool2'], stride['pool2'])\n",
    "    \n",
    "    \n",
    "    #Layer3 \n",
    "    x_tensor = conv2d_maxpool(x_tensor, outputs['layer3'], kernel['conv3'], stride['conv3'], kernel['pool3'], stride['pool3'])\n",
    "    x_tensor = tf.nn.dropout(x_tensor, keep_prob)\n",
    "    \n",
    "    \n",
    "    # TODO: Apply a Flatten Layer\n",
    "    # Function Definition from Above:\n",
    "    #   flatten(x_tensor)\n",
    "    x_tensor = flatten(x_tensor)\n",
    "\n",
    "    # TODO: Apply 1, 2, or 3 Fully Connected Layers\n",
    "    #    Play around with different number of outputs\n",
    "    # Function Definition from Above:\n",
    "    #   fully_conn(x_tensor, num_outputs)\n",
    "    #x_tensor = fully_conn(x_tensor, 1024)\n",
    "    #x_tensor = tf.nn.dropout(x_tensor, keep_prob)\n",
    "    x_tensor = fully_conn(x_tensor, 256)\n",
    "    x_tensor = tf.nn.dropout(x_tensor, keep_prob)\n",
    "    x_tensor = fully_conn(x_tensor, 10)\n",
    "    x_tensor = tf.nn.dropout(x_tensor, keep_prob)\n",
    "    x_tensor = fully_conn(x_tensor, 10)\n",
    "    x_tensor = tf.nn.dropout(x_tensor, keep_prob)\n",
    "    \n",
    "    # TODO: Apply an Output Layer\n",
    "    #    Set this to the number of classes\n",
    "    # Function Definition from Above:\n",
    "    #   output(x_tensor, num_outputs)\n",
    "    x_tensor = output(x_tensor, 10)\n",
    "    \n",
    "    # TODO: return output\n",
    "    return x_tensor\n",
    "\n",
    "\n",
    "\"\"\"\n",
    "DON'T MODIFY ANYTHING IN THIS CELL THAT IS BELOW THIS LINE\n",
    "\"\"\"\n",
    "\n",
    "##############################\n",
    "## Build the Neural Network ##\n",
    "##############################\n",
    "\n",
    "# Remove previous weights, bias, inputs, etc..\n",
    "tf.reset_default_graph()\n",
    "\n",
    "# Inputs\n",
    "x = neural_net_image_input((32, 32, 3))\n",
    "y = neural_net_label_input(10)\n",
    "keep_prob = neural_net_keep_prob_input()\n",
    "\n",
    "# Model\n",
    "logits = conv_net(x, keep_prob)\n",
    "\n",
    "# Name logits Tensor, so that is can be loaded from disk after training\n",
    "logits = tf.identity(logits, name='logits')\n",
    "\n",
    "# Loss and Optimizer\n",
    "cost = tf.reduce_mean(tf.nn.softmax_cross_entropy_with_logits(logits=logits, labels=y))\n",
    "optimizer = tf.train.AdamOptimizer().minimize(cost)\n",
    "\n",
    "# Accuracy\n",
    "correct_pred = tf.equal(tf.argmax(logits, 1), tf.argmax(y, 1))\n",
    "accuracy = tf.reduce_mean(tf.cast(correct_pred, tf.float32), name='accuracy')\n",
    "\n",
    "tests.test_conv_net(conv_net)"
   ]
  },
  {
   "cell_type": "markdown",
   "metadata": {},
   "source": [
    "## Train the Neural Network\n",
    "### Single Optimization\n",
    "Implement the function `train_neural_network` to do a single optimization.  The optimization should use `optimizer` to optimize in `session` with a `feed_dict` of the following:\n",
    "* `x` for image input\n",
    "* `y` for labels\n",
    "* `keep_prob` for keep probability for dropout\n",
    "\n",
    "This function will be called for each batch, so `tf.global_variables_initializer()` has already been called.\n",
    "\n",
    "Note: Nothing needs to be returned. This function is only optimizing the neural network."
   ]
  },
  {
   "cell_type": "code",
   "execution_count": 49,
   "metadata": {},
   "outputs": [
    {
     "name": "stdout",
     "output_type": "stream",
     "text": [
      "Tests Passed\n"
     ]
    }
   ],
   "source": [
    "def train_neural_network(session, optimizer, keep_probability, feature_batch, label_batch):\n",
    "    \"\"\"\n",
    "    Optimize the session on a batch of images and labels\n",
    "    : session: Current TensorFlow session\n",
    "    : optimizer: TensorFlow optimizer function\n",
    "    : keep_probability: keep probability\n",
    "    : feature_batch: Batch of Numpy image data\n",
    "    : label_batch: Batch of Numpy label data\n",
    "    \"\"\"\n",
    "    # TODO: Implement Function\n",
    "    \n",
    "    session.run(optimizer, feed_dict={x: feature_batch, y: label_batch, keep_prob: keep_probability})\n",
    "    pass\n",
    "\n",
    "\n",
    "\"\"\"\n",
    "DON'T MODIFY ANYTHING IN THIS CELL THAT IS BELOW THIS LINE\n",
    "\"\"\"\n",
    "tests.test_train_nn(train_neural_network)"
   ]
  },
  {
   "cell_type": "markdown",
   "metadata": {},
   "source": [
    "### Show Stats\n",
    "Implement the function `print_stats` to print loss and validation accuracy.  Use the global variables `valid_features` and `valid_labels` to calculate validation accuracy.  Use a keep probability of `1.0` to calculate the loss and validation accuracy."
   ]
  },
  {
   "cell_type": "code",
   "execution_count": 40,
   "metadata": {
    "collapsed": true
   },
   "outputs": [],
   "source": [
    "def print_stats(session, feature_batch, label_batch, cost, accuracy):\n",
    "    \"\"\"\n",
    "    Print information about loss and validation accuracy\n",
    "    : session: Current TensorFlow session\n",
    "    : feature_batch: Batch of Numpy image data\n",
    "    : label_batch: Batch of Numpy label data\n",
    "    : cost: TensorFlow cost function\n",
    "    : accuracy: TensorFlow accuracy function\n",
    "    \"\"\"\n",
    "    # TODO: Implement Function\n",
    "    loss = session.run(cost, feed_dict= {\n",
    "        x: feature_batch,\n",
    "        y: label_batch,\n",
    "        keep_prob: 1.0\n",
    "    })\n",
    "    validation_acc = session.run(accuracy, feed_dict={\n",
    "        x: valid_features,\n",
    "        y: valid_labels,\n",
    "        keep_prob: 1.0\n",
    "    })\n",
    "    print('Loss: {:>10.4f} Validation accuracy: {:.6f}'.format(loss, validation_acc))\n",
    "    pass"
   ]
  },
  {
   "cell_type": "markdown",
   "metadata": {},
   "source": [
    "### Hyperparameters\n",
    "Tune the following parameters:\n",
    "* Set `epochs` to the number of iterations until the network stops learning or start overfitting\n",
    "* Set `batch_size` to the highest number that your machine has memory for.  Most people set them to common sizes of memory:\n",
    " * 64\n",
    " * 128\n",
    " * 256\n",
    " * ...\n",
    "* Set `keep_probability` to the probability of keeping a node using dropout"
   ]
  },
  {
   "cell_type": "code",
   "execution_count": 51,
   "metadata": {
    "collapsed": true
   },
   "outputs": [],
   "source": [
    "# TODO: Tune Parameters\n",
    "epochs = 35\n",
    "batch_size = 512\n",
    "keep_probability = 0.92"
   ]
  },
  {
   "cell_type": "markdown",
   "metadata": {},
   "source": [
    "### Train on a Single CIFAR-10 Batch\n",
    "Instead of training the neural network on all the CIFAR-10 batches of data, let's use a single batch. This should save time while you iterate on the model to get a better accuracy.  Once the final validation accuracy is 50% or greater, run the model on all the data in the next section."
   ]
  },
  {
   "cell_type": "code",
   "execution_count": 50,
   "metadata": {},
   "outputs": [
    {
     "name": "stdout",
     "output_type": "stream",
     "text": [
      "Checking the Training on a Single Batch...\n",
      "Epoch  1, CIFAR-10 Batch 1:  Loss:     2.2873 Validation accuracy: 0.109600\n",
      "Epoch  2, CIFAR-10 Batch 1:  Loss:     2.2238 Validation accuracy: 0.149200\n",
      "Epoch  3, CIFAR-10 Batch 1:  Loss:     2.1862 Validation accuracy: 0.164800\n",
      "Epoch  4, CIFAR-10 Batch 1:  Loss:     2.1245 Validation accuracy: 0.220200\n",
      "Epoch  5, CIFAR-10 Batch 1:  Loss:     2.0269 Validation accuracy: 0.218200\n",
      "Epoch  6, CIFAR-10 Batch 1:  Loss:     1.9246 Validation accuracy: 0.265800\n",
      "Epoch  7, CIFAR-10 Batch 1:  Loss:     1.9130 Validation accuracy: 0.261600\n",
      "Epoch  8, CIFAR-10 Batch 1:  Loss:     1.8349 Validation accuracy: 0.271600\n",
      "Epoch  9, CIFAR-10 Batch 1:  Loss:     1.7998 Validation accuracy: 0.284000\n",
      "Epoch 10, CIFAR-10 Batch 1:  Loss:     1.7208 Validation accuracy: 0.292200\n",
      "Epoch 11, CIFAR-10 Batch 1:  Loss:     1.7850 Validation accuracy: 0.297200\n",
      "Epoch 12, CIFAR-10 Batch 1:  Loss:     1.6442 Validation accuracy: 0.332800\n",
      "Epoch 13, CIFAR-10 Batch 1:  Loss:     1.5969 Validation accuracy: 0.357000\n",
      "Epoch 14, CIFAR-10 Batch 1:  Loss:     1.5190 Validation accuracy: 0.378200\n",
      "Epoch 15, CIFAR-10 Batch 1:  Loss:     1.4683 Validation accuracy: 0.384800\n",
      "Epoch 16, CIFAR-10 Batch 1:  Loss:     1.4286 Validation accuracy: 0.414800\n",
      "Epoch 17, CIFAR-10 Batch 1:  Loss:     1.4085 Validation accuracy: 0.422400\n",
      "Epoch 18, CIFAR-10 Batch 1:  Loss:     1.3721 Validation accuracy: 0.439000\n",
      "Epoch 19, CIFAR-10 Batch 1:  Loss:     1.3152 Validation accuracy: 0.449200\n",
      "Epoch 20, CIFAR-10 Batch 1:  Loss:     1.2519 Validation accuracy: 0.458000\n",
      "Epoch 21, CIFAR-10 Batch 1:  Loss:     1.1946 Validation accuracy: 0.470200\n",
      "Epoch 22, CIFAR-10 Batch 1:  Loss:     1.1798 Validation accuracy: 0.453200\n",
      "Epoch 23, CIFAR-10 Batch 1:  Loss:     1.1203 Validation accuracy: 0.471800\n",
      "Epoch 24, CIFAR-10 Batch 1:  Loss:     1.1640 Validation accuracy: 0.452400\n",
      "Epoch 25, CIFAR-10 Batch 1:  Loss:     1.0714 Validation accuracy: 0.459800\n",
      "Epoch 26, CIFAR-10 Batch 1:  Loss:     0.9975 Validation accuracy: 0.479200\n",
      "Epoch 27, CIFAR-10 Batch 1:  Loss:     1.0270 Validation accuracy: 0.493800\n",
      "Epoch 28, CIFAR-10 Batch 1:  Loss:     0.9080 Validation accuracy: 0.502000\n",
      "Epoch 29, CIFAR-10 Batch 1:  Loss:     0.8956 Validation accuracy: 0.505800\n",
      "Epoch 30, CIFAR-10 Batch 1:  Loss:     0.8683 Validation accuracy: 0.509600\n",
      "Epoch 31, CIFAR-10 Batch 1:  Loss:     0.8393 Validation accuracy: 0.516600\n",
      "Epoch 32, CIFAR-10 Batch 1:  Loss:     0.8497 Validation accuracy: 0.501400\n",
      "Epoch 33, CIFAR-10 Batch 1:  Loss:     0.8170 Validation accuracy: 0.484200\n",
      "Epoch 34, CIFAR-10 Batch 1:  Loss:     0.7773 Validation accuracy: 0.510200\n",
      "Epoch 35, CIFAR-10 Batch 1:  Loss:     0.7166 Validation accuracy: 0.516000\n",
      "Epoch 36, CIFAR-10 Batch 1:  Loss:     0.6527 Validation accuracy: 0.521800\n",
      "Epoch 37, CIFAR-10 Batch 1:  Loss:     0.6749 Validation accuracy: 0.507600\n",
      "Epoch 38, CIFAR-10 Batch 1:  Loss:     0.6123 Validation accuracy: 0.519400\n",
      "Epoch 39, CIFAR-10 Batch 1:  Loss:     0.5407 Validation accuracy: 0.538000\n",
      "Epoch 40, CIFAR-10 Batch 1:  Loss:     0.5272 Validation accuracy: 0.534400\n",
      "Epoch 41, CIFAR-10 Batch 1:  Loss:     0.4873 Validation accuracy: 0.538400\n",
      "Epoch 42, CIFAR-10 Batch 1:  Loss:     0.4467 Validation accuracy: 0.540800\n",
      "Epoch 43, CIFAR-10 Batch 1:  Loss:     0.4200 Validation accuracy: 0.544800\n",
      "Epoch 44, CIFAR-10 Batch 1:  Loss:     0.4037 Validation accuracy: 0.535200\n",
      "Epoch 45, CIFAR-10 Batch 1:  Loss:     0.3722 Validation accuracy: 0.554400\n",
      "Epoch 46, CIFAR-10 Batch 1:  Loss:     0.3879 Validation accuracy: 0.551200\n",
      "Epoch 47, CIFAR-10 Batch 1:  Loss:     0.4719 Validation accuracy: 0.524200\n",
      "Epoch 48, CIFAR-10 Batch 1:  Loss:     0.4510 Validation accuracy: 0.514600\n",
      "Epoch 49, CIFAR-10 Batch 1:  Loss:     0.3619 Validation accuracy: 0.534400\n",
      "Epoch 50, CIFAR-10 Batch 1:  Loss:     0.4304 Validation accuracy: 0.519200\n",
      "Epoch 51, CIFAR-10 Batch 1:  Loss:     0.3797 Validation accuracy: 0.531200\n",
      "Epoch 52, CIFAR-10 Batch 1:  Loss:     0.3296 Validation accuracy: 0.531000\n",
      "Epoch 53, CIFAR-10 Batch 1:  Loss:     0.3092 Validation accuracy: 0.546600\n",
      "Epoch 54, CIFAR-10 Batch 1:  Loss:     0.3012 Validation accuracy: 0.545200\n",
      "Epoch 55, CIFAR-10 Batch 1:  Loss:     0.3192 Validation accuracy: 0.545800\n",
      "Epoch 56, CIFAR-10 Batch 1:  Loss:     0.3106 Validation accuracy: 0.540800\n",
      "Epoch 57, CIFAR-10 Batch 1:  Loss:     0.3362 Validation accuracy: 0.528800\n",
      "Epoch 58, CIFAR-10 Batch 1:  Loss:     0.2681 Validation accuracy: 0.546000\n",
      "Epoch 59, CIFAR-10 Batch 1:  Loss:     0.2269 Validation accuracy: 0.557400\n",
      "Epoch 60, CIFAR-10 Batch 1:  Loss:     0.1980 Validation accuracy: 0.541800\n",
      "Epoch 61, CIFAR-10 Batch 1:  Loss:     0.2205 Validation accuracy: 0.515200\n",
      "Epoch 62, CIFAR-10 Batch 1:  Loss:     0.2478 Validation accuracy: 0.531800\n",
      "Epoch 63, CIFAR-10 Batch 1:  Loss:     0.1943 Validation accuracy: 0.543800\n",
      "Epoch 64, CIFAR-10 Batch 1:  Loss:     0.2606 Validation accuracy: 0.531800\n",
      "Epoch 65, CIFAR-10 Batch 1:  Loss:     0.2243 Validation accuracy: 0.520400\n",
      "Epoch 66, CIFAR-10 Batch 1:  Loss:     0.2384 Validation accuracy: 0.519200\n",
      "Epoch 67, CIFAR-10 Batch 1:  Loss:     0.2071 Validation accuracy: 0.537200\n",
      "Epoch 68, CIFAR-10 Batch 1:  Loss:     0.1664 Validation accuracy: 0.560200\n",
      "Epoch 69, CIFAR-10 Batch 1:  Loss:     0.1794 Validation accuracy: 0.563000\n",
      "Epoch 70, CIFAR-10 Batch 1:  Loss:     0.1080 Validation accuracy: 0.574200\n",
      "Epoch 71, CIFAR-10 Batch 1:  Loss:     0.0992 Validation accuracy: 0.570600\n",
      "Epoch 72, CIFAR-10 Batch 1:  Loss:     0.0911 Validation accuracy: 0.578800\n",
      "Epoch 73, CIFAR-10 Batch 1:  Loss:     0.0938 Validation accuracy: 0.574600\n",
      "Epoch 74, CIFAR-10 Batch 1:  Loss:     0.0755 Validation accuracy: 0.568400\n",
      "Epoch 75, CIFAR-10 Batch 1:  Loss:     0.0738 Validation accuracy: 0.573200\n",
      "Epoch 76, CIFAR-10 Batch 1:  Loss:     0.0691 Validation accuracy: 0.573600\n",
      "Epoch 77, CIFAR-10 Batch 1:  Loss:     0.0732 Validation accuracy: 0.579800\n",
      "Epoch 78, CIFAR-10 Batch 1:  Loss:     0.0750 Validation accuracy: 0.571600\n",
      "Epoch 79, CIFAR-10 Batch 1:  Loss:     0.0623 Validation accuracy: 0.567600\n",
      "Epoch 80, CIFAR-10 Batch 1:  Loss:     0.0584 Validation accuracy: 0.568200\n",
      "Epoch 81, CIFAR-10 Batch 1:  Loss:     0.0551 Validation accuracy: 0.568400\n",
      "Epoch 82, CIFAR-10 Batch 1:  Loss:     0.0505 Validation accuracy: 0.570600\n",
      "Epoch 83, CIFAR-10 Batch 1:  Loss:     0.0436 Validation accuracy: 0.573200\n",
      "Epoch 84, CIFAR-10 Batch 1:  Loss:     0.0545 Validation accuracy: 0.570000\n",
      "Epoch 85, CIFAR-10 Batch 1:  Loss:     0.0384 Validation accuracy: 0.575000\n",
      "Epoch 86, CIFAR-10 Batch 1:  Loss:     0.0384 Validation accuracy: 0.577400\n",
      "Epoch 87, CIFAR-10 Batch 1:  Loss:     0.0351 Validation accuracy: 0.576000\n",
      "Epoch 88, CIFAR-10 Batch 1:  Loss:     0.0337 Validation accuracy: 0.585200\n",
      "Epoch 89, CIFAR-10 Batch 1:  Loss:     0.0306 Validation accuracy: 0.582800\n",
      "Epoch 90, CIFAR-10 Batch 1:  Loss:     0.0391 Validation accuracy: 0.571600\n",
      "Epoch 91, CIFAR-10 Batch 1:  Loss:     0.0363 Validation accuracy: 0.582800\n",
      "Epoch 92, CIFAR-10 Batch 1:  Loss:     0.0266 Validation accuracy: 0.585800\n",
      "Epoch 93, CIFAR-10 Batch 1:  Loss:     0.0278 Validation accuracy: 0.577200\n",
      "Epoch 94, CIFAR-10 Batch 1:  Loss:     0.0471 Validation accuracy: 0.559600\n",
      "Epoch 95, CIFAR-10 Batch 1:  Loss:     0.0252 Validation accuracy: 0.585400\n",
      "Epoch 96, CIFAR-10 Batch 1:  Loss:     0.0309 Validation accuracy: 0.575200\n",
      "Epoch 97, CIFAR-10 Batch 1:  Loss:     0.0281 Validation accuracy: 0.570200\n",
      "Epoch 98, CIFAR-10 Batch 1:  Loss:     0.0263 Validation accuracy: 0.580400\n",
      "Epoch 99, CIFAR-10 Batch 1:  Loss:     0.0208 Validation accuracy: 0.576800\n",
      "Epoch 100, CIFAR-10 Batch 1:  Loss:     0.0171 Validation accuracy: 0.572200\n"
     ]
    }
   ],
   "source": [
    "\"\"\"\n",
    "DON'T MODIFY ANYTHING IN THIS CELL\n",
    "\"\"\"\n",
    "print('Checking the Training on a Single Batch...')\n",
    "with tf.Session() as sess:\n",
    "    # Initializing the variables\n",
    "    sess.run(tf.global_variables_initializer())\n",
    "    \n",
    "    # Training cycle\n",
    "    for epoch in range(epochs):\n",
    "        batch_i = 1\n",
    "        for batch_features, batch_labels in helper.load_preprocess_training_batch(batch_i, batch_size):\n",
    "            train_neural_network(sess, optimizer, keep_probability, batch_features, batch_labels)\n",
    "        print('Epoch {:>2}, CIFAR-10 Batch {}:  '.format(epoch + 1, batch_i), end='')\n",
    "        print_stats(sess, batch_features, batch_labels, cost, accuracy)"
   ]
  },
  {
   "cell_type": "markdown",
   "metadata": {},
   "source": [
    "### Fully Train the Model\n",
    "Now that you got a good accuracy with a single CIFAR-10 batch, try it with all five batches."
   ]
  },
  {
   "cell_type": "code",
   "execution_count": 52,
   "metadata": {},
   "outputs": [
    {
     "name": "stdout",
     "output_type": "stream",
     "text": [
      "Training...\n",
      "Epoch  1, CIFAR-10 Batch 1:  Loss:     2.3071 Validation accuracy: 0.099400\n",
      "Epoch  1, CIFAR-10 Batch 2:  Loss:     2.2803 Validation accuracy: 0.151600\n",
      "Epoch  1, CIFAR-10 Batch 3:  Loss:     2.2093 Validation accuracy: 0.163400\n",
      "Epoch  1, CIFAR-10 Batch 4:  Loss:     2.1151 Validation accuracy: 0.179800\n",
      "Epoch  1, CIFAR-10 Batch 5:  Loss:     1.9986 Validation accuracy: 0.224600\n",
      "Epoch  2, CIFAR-10 Batch 1:  Loss:     2.0151 Validation accuracy: 0.246200\n",
      "Epoch  2, CIFAR-10 Batch 2:  Loss:     1.8987 Validation accuracy: 0.285000\n",
      "Epoch  2, CIFAR-10 Batch 3:  Loss:     1.7656 Validation accuracy: 0.307400\n",
      "Epoch  2, CIFAR-10 Batch 4:  Loss:     1.7044 Validation accuracy: 0.325800\n",
      "Epoch  2, CIFAR-10 Batch 5:  Loss:     1.7135 Validation accuracy: 0.357200\n",
      "Epoch  3, CIFAR-10 Batch 1:  Loss:     1.7998 Validation accuracy: 0.364800\n",
      "Epoch  3, CIFAR-10 Batch 2:  Loss:     1.6915 Validation accuracy: 0.366000\n",
      "Epoch  3, CIFAR-10 Batch 3:  Loss:     1.6556 Validation accuracy: 0.353800\n",
      "Epoch  3, CIFAR-10 Batch 4:  Loss:     1.4957 Validation accuracy: 0.382400\n",
      "Epoch  3, CIFAR-10 Batch 5:  Loss:     1.5549 Validation accuracy: 0.399600\n",
      "Epoch  4, CIFAR-10 Batch 1:  Loss:     1.6448 Validation accuracy: 0.415200\n",
      "Epoch  4, CIFAR-10 Batch 2:  Loss:     1.5197 Validation accuracy: 0.428400\n",
      "Epoch  4, CIFAR-10 Batch 3:  Loss:     1.4164 Validation accuracy: 0.427000\n",
      "Epoch  4, CIFAR-10 Batch 4:  Loss:     1.3861 Validation accuracy: 0.442200\n",
      "Epoch  4, CIFAR-10 Batch 5:  Loss:     1.3917 Validation accuracy: 0.456800\n",
      "Epoch  5, CIFAR-10 Batch 1:  Loss:     1.4576 Validation accuracy: 0.478000\n",
      "Epoch  5, CIFAR-10 Batch 2:  Loss:     1.3645 Validation accuracy: 0.468400\n",
      "Epoch  5, CIFAR-10 Batch 3:  Loss:     1.2989 Validation accuracy: 0.479600\n",
      "Epoch  5, CIFAR-10 Batch 4:  Loss:     1.2474 Validation accuracy: 0.502800\n",
      "Epoch  5, CIFAR-10 Batch 5:  Loss:     1.2421 Validation accuracy: 0.516000\n",
      "Epoch  6, CIFAR-10 Batch 1:  Loss:     1.3407 Validation accuracy: 0.520600\n",
      "Epoch  6, CIFAR-10 Batch 2:  Loss:     1.2716 Validation accuracy: 0.538600\n",
      "Epoch  6, CIFAR-10 Batch 3:  Loss:     1.1379 Validation accuracy: 0.550400\n",
      "Epoch  6, CIFAR-10 Batch 4:  Loss:     1.1519 Validation accuracy: 0.537800\n",
      "Epoch  6, CIFAR-10 Batch 5:  Loss:     1.1396 Validation accuracy: 0.554200\n",
      "Epoch  7, CIFAR-10 Batch 1:  Loss:     1.1985 Validation accuracy: 0.559000\n",
      "Epoch  7, CIFAR-10 Batch 2:  Loss:     1.1269 Validation accuracy: 0.559200\n",
      "Epoch  7, CIFAR-10 Batch 3:  Loss:     1.0190 Validation accuracy: 0.565600\n",
      "Epoch  7, CIFAR-10 Batch 4:  Loss:     1.0036 Validation accuracy: 0.578000\n",
      "Epoch  7, CIFAR-10 Batch 5:  Loss:     1.0858 Validation accuracy: 0.559800\n",
      "Epoch  8, CIFAR-10 Batch 1:  Loss:     1.0812 Validation accuracy: 0.583200\n",
      "Epoch  8, CIFAR-10 Batch 2:  Loss:     1.0494 Validation accuracy: 0.588200\n",
      "Epoch  8, CIFAR-10 Batch 3:  Loss:     0.9681 Validation accuracy: 0.575200\n",
      "Epoch  8, CIFAR-10 Batch 4:  Loss:     0.9046 Validation accuracy: 0.603000\n",
      "Epoch  8, CIFAR-10 Batch 5:  Loss:     0.9559 Validation accuracy: 0.599400\n",
      "Epoch  9, CIFAR-10 Batch 1:  Loss:     0.9693 Validation accuracy: 0.606600\n",
      "Epoch  9, CIFAR-10 Batch 2:  Loss:     0.9540 Validation accuracy: 0.612000\n",
      "Epoch  9, CIFAR-10 Batch 3:  Loss:     0.8810 Validation accuracy: 0.605800\n",
      "Epoch  9, CIFAR-10 Batch 4:  Loss:     0.8166 Validation accuracy: 0.615600\n",
      "Epoch  9, CIFAR-10 Batch 5:  Loss:     0.9128 Validation accuracy: 0.604200\n",
      "Epoch 10, CIFAR-10 Batch 1:  Loss:     0.9167 Validation accuracy: 0.616600\n",
      "Epoch 10, CIFAR-10 Batch 2:  Loss:     0.9091 Validation accuracy: 0.609800\n",
      "Epoch 10, CIFAR-10 Batch 3:  Loss:     0.8265 Validation accuracy: 0.619600\n",
      "Epoch 10, CIFAR-10 Batch 4:  Loss:     0.8106 Validation accuracy: 0.611200\n",
      "Epoch 10, CIFAR-10 Batch 5:  Loss:     0.8496 Validation accuracy: 0.626000\n",
      "Epoch 11, CIFAR-10 Batch 1:  Loss:     0.8412 Validation accuracy: 0.638800\n",
      "Epoch 11, CIFAR-10 Batch 2:  Loss:     0.8645 Validation accuracy: 0.613600\n",
      "Epoch 11, CIFAR-10 Batch 3:  Loss:     0.7824 Validation accuracy: 0.633000\n",
      "Epoch 11, CIFAR-10 Batch 4:  Loss:     0.7508 Validation accuracy: 0.618200\n",
      "Epoch 11, CIFAR-10 Batch 5:  Loss:     0.7816 Validation accuracy: 0.634400\n",
      "Epoch 12, CIFAR-10 Batch 1:  Loss:     0.7801 Validation accuracy: 0.648000\n",
      "Epoch 12, CIFAR-10 Batch 2:  Loss:     0.8087 Validation accuracy: 0.618800\n",
      "Epoch 12, CIFAR-10 Batch 3:  Loss:     0.7215 Validation accuracy: 0.638400\n",
      "Epoch 12, CIFAR-10 Batch 4:  Loss:     0.6411 Validation accuracy: 0.649600\n",
      "Epoch 12, CIFAR-10 Batch 5:  Loss:     0.7357 Validation accuracy: 0.642400\n",
      "Epoch 13, CIFAR-10 Batch 1:  Loss:     0.7302 Validation accuracy: 0.643800\n",
      "Epoch 13, CIFAR-10 Batch 2:  Loss:     0.7163 Validation accuracy: 0.647600\n",
      "Epoch 13, CIFAR-10 Batch 3:  Loss:     0.7311 Validation accuracy: 0.652000\n",
      "Epoch 13, CIFAR-10 Batch 4:  Loss:     0.6567 Validation accuracy: 0.640000\n",
      "Epoch 13, CIFAR-10 Batch 5:  Loss:     0.6715 Validation accuracy: 0.658000\n",
      "Epoch 14, CIFAR-10 Batch 1:  Loss:     0.7211 Validation accuracy: 0.644800\n",
      "Epoch 14, CIFAR-10 Batch 2:  Loss:     0.6932 Validation accuracy: 0.644400\n",
      "Epoch 14, CIFAR-10 Batch 3:  Loss:     0.6557 Validation accuracy: 0.656400\n",
      "Epoch 14, CIFAR-10 Batch 4:  Loss:     0.5656 Validation accuracy: 0.658000\n",
      "Epoch 14, CIFAR-10 Batch 5:  Loss:     0.6457 Validation accuracy: 0.661200\n",
      "Epoch 15, CIFAR-10 Batch 1:  Loss:     0.6535 Validation accuracy: 0.652400\n",
      "Epoch 15, CIFAR-10 Batch 2:  Loss:     0.5963 Validation accuracy: 0.665600\n",
      "Epoch 15, CIFAR-10 Batch 3:  Loss:     0.6078 Validation accuracy: 0.669600\n",
      "Epoch 15, CIFAR-10 Batch 4:  Loss:     0.5502 Validation accuracy: 0.663800\n",
      "Epoch 15, CIFAR-10 Batch 5:  Loss:     0.5854 Validation accuracy: 0.657600\n",
      "Epoch 16, CIFAR-10 Batch 1:  Loss:     0.5929 Validation accuracy: 0.665800\n",
      "Epoch 16, CIFAR-10 Batch 2:  Loss:     0.5822 Validation accuracy: 0.658800\n",
      "Epoch 16, CIFAR-10 Batch 3:  Loss:     0.5821 Validation accuracy: 0.670200\n",
      "Epoch 16, CIFAR-10 Batch 4:  Loss:     0.5334 Validation accuracy: 0.667000\n",
      "Epoch 16, CIFAR-10 Batch 5:  Loss:     0.5333 Validation accuracy: 0.676600\n",
      "Epoch 17, CIFAR-10 Batch 1:  Loss:     0.5585 Validation accuracy: 0.669200\n",
      "Epoch 17, CIFAR-10 Batch 2:  Loss:     0.5048 Validation accuracy: 0.677600\n",
      "Epoch 17, CIFAR-10 Batch 3:  Loss:     0.5826 Validation accuracy: 0.661600\n",
      "Epoch 17, CIFAR-10 Batch 4:  Loss:     0.4929 Validation accuracy: 0.661600\n",
      "Epoch 17, CIFAR-10 Batch 5:  Loss:     0.4932 Validation accuracy: 0.683400\n",
      "Epoch 18, CIFAR-10 Batch 1:  Loss:     0.5361 Validation accuracy: 0.670400\n",
      "Epoch 18, CIFAR-10 Batch 2:  Loss:     0.4643 Validation accuracy: 0.684600\n",
      "Epoch 18, CIFAR-10 Batch 3:  Loss:     0.5207 Validation accuracy: 0.669800\n",
      "Epoch 18, CIFAR-10 Batch 4:  Loss:     0.5052 Validation accuracy: 0.656600\n",
      "Epoch 18, CIFAR-10 Batch 5:  Loss:     0.4532 Validation accuracy: 0.685000\n",
      "Epoch 19, CIFAR-10 Batch 1:  Loss:     0.4782 Validation accuracy: 0.674000\n",
      "Epoch 19, CIFAR-10 Batch 2:  Loss:     0.4424 Validation accuracy: 0.689400\n",
      "Epoch 19, CIFAR-10 Batch 3:  Loss:     0.4795 Validation accuracy: 0.680800\n",
      "Epoch 19, CIFAR-10 Batch 4:  Loss:     0.4285 Validation accuracy: 0.684000\n",
      "Epoch 19, CIFAR-10 Batch 5:  Loss:     0.4335 Validation accuracy: 0.678400\n",
      "Epoch 20, CIFAR-10 Batch 1:  Loss:     0.5132 Validation accuracy: 0.670400\n",
      "Epoch 20, CIFAR-10 Batch 2:  Loss:     0.4848 Validation accuracy: 0.683400\n",
      "Epoch 20, CIFAR-10 Batch 3:  Loss:     0.4849 Validation accuracy: 0.669400\n",
      "Epoch 20, CIFAR-10 Batch 4:  Loss:     0.4473 Validation accuracy: 0.675400\n",
      "Epoch 20, CIFAR-10 Batch 5:  Loss:     0.4263 Validation accuracy: 0.676400\n",
      "Epoch 21, CIFAR-10 Batch 1:  Loss:     0.4591 Validation accuracy: 0.685800\n",
      "Epoch 21, CIFAR-10 Batch 2:  Loss:     0.4183 Validation accuracy: 0.685600\n",
      "Epoch 21, CIFAR-10 Batch 3:  Loss:     0.4125 Validation accuracy: 0.686200\n",
      "Epoch 21, CIFAR-10 Batch 4:  Loss:     0.3805 Validation accuracy: 0.685800\n",
      "Epoch 21, CIFAR-10 Batch 5:  Loss:     0.4003 Validation accuracy: 0.682800\n",
      "Epoch 22, CIFAR-10 Batch 1:  Loss:     0.3948 Validation accuracy: 0.692800\n",
      "Epoch 22, CIFAR-10 Batch 2:  Loss:     0.3886 Validation accuracy: 0.685000\n"
     ]
    },
    {
     "name": "stdout",
     "output_type": "stream",
     "text": [
      "Epoch 22, CIFAR-10 Batch 3:  Loss:     0.3932 Validation accuracy: 0.685800\n",
      "Epoch 22, CIFAR-10 Batch 4:  Loss:     0.3626 Validation accuracy: 0.696600\n",
      "Epoch 22, CIFAR-10 Batch 5:  Loss:     0.3942 Validation accuracy: 0.685400\n",
      "Epoch 23, CIFAR-10 Batch 1:  Loss:     0.3585 Validation accuracy: 0.684600\n",
      "Epoch 23, CIFAR-10 Batch 2:  Loss:     0.3518 Validation accuracy: 0.693600\n",
      "Epoch 23, CIFAR-10 Batch 3:  Loss:     0.3819 Validation accuracy: 0.686400\n",
      "Epoch 23, CIFAR-10 Batch 4:  Loss:     0.3417 Validation accuracy: 0.691400\n",
      "Epoch 23, CIFAR-10 Batch 5:  Loss:     0.3452 Validation accuracy: 0.683800\n",
      "Epoch 24, CIFAR-10 Batch 1:  Loss:     0.3205 Validation accuracy: 0.682000\n",
      "Epoch 24, CIFAR-10 Batch 2:  Loss:     0.3215 Validation accuracy: 0.685200\n",
      "Epoch 24, CIFAR-10 Batch 3:  Loss:     0.3493 Validation accuracy: 0.689200\n",
      "Epoch 24, CIFAR-10 Batch 4:  Loss:     0.3345 Validation accuracy: 0.674600\n",
      "Epoch 24, CIFAR-10 Batch 5:  Loss:     0.2943 Validation accuracy: 0.693600\n",
      "Epoch 25, CIFAR-10 Batch 1:  Loss:     0.2961 Validation accuracy: 0.692200\n",
      "Epoch 25, CIFAR-10 Batch 2:  Loss:     0.3176 Validation accuracy: 0.685000\n",
      "Epoch 25, CIFAR-10 Batch 3:  Loss:     0.3235 Validation accuracy: 0.687400\n",
      "Epoch 25, CIFAR-10 Batch 4:  Loss:     0.3159 Validation accuracy: 0.671800\n",
      "Epoch 25, CIFAR-10 Batch 5:  Loss:     0.2800 Validation accuracy: 0.697400\n",
      "Epoch 26, CIFAR-10 Batch 1:  Loss:     0.2785 Validation accuracy: 0.706800\n",
      "Epoch 26, CIFAR-10 Batch 2:  Loss:     0.3152 Validation accuracy: 0.675000\n",
      "Epoch 26, CIFAR-10 Batch 3:  Loss:     0.2835 Validation accuracy: 0.700200\n",
      "Epoch 26, CIFAR-10 Batch 4:  Loss:     0.2432 Validation accuracy: 0.692800\n",
      "Epoch 26, CIFAR-10 Batch 5:  Loss:     0.2702 Validation accuracy: 0.697800\n",
      "Epoch 27, CIFAR-10 Batch 1:  Loss:     0.2577 Validation accuracy: 0.707200\n",
      "Epoch 27, CIFAR-10 Batch 2:  Loss:     0.2682 Validation accuracy: 0.691400\n",
      "Epoch 27, CIFAR-10 Batch 3:  Loss:     0.2767 Validation accuracy: 0.700600\n",
      "Epoch 27, CIFAR-10 Batch 4:  Loss:     0.2572 Validation accuracy: 0.696400\n",
      "Epoch 27, CIFAR-10 Batch 5:  Loss:     0.2647 Validation accuracy: 0.691400\n",
      "Epoch 28, CIFAR-10 Batch 1:  Loss:     0.2773 Validation accuracy: 0.692200\n",
      "Epoch 28, CIFAR-10 Batch 2:  Loss:     0.2741 Validation accuracy: 0.692400\n",
      "Epoch 28, CIFAR-10 Batch 3:  Loss:     0.3562 Validation accuracy: 0.685600\n",
      "Epoch 28, CIFAR-10 Batch 4:  Loss:     0.2260 Validation accuracy: 0.703800\n",
      "Epoch 28, CIFAR-10 Batch 5:  Loss:     0.2263 Validation accuracy: 0.699000\n",
      "Epoch 29, CIFAR-10 Batch 1:  Loss:     0.2233 Validation accuracy: 0.703800\n",
      "Epoch 29, CIFAR-10 Batch 2:  Loss:     0.2357 Validation accuracy: 0.705600\n",
      "Epoch 29, CIFAR-10 Batch 3:  Loss:     0.2590 Validation accuracy: 0.700800\n",
      "Epoch 29, CIFAR-10 Batch 4:  Loss:     0.1965 Validation accuracy: 0.693200\n",
      "Epoch 29, CIFAR-10 Batch 5:  Loss:     0.2447 Validation accuracy: 0.694000\n",
      "Epoch 30, CIFAR-10 Batch 1:  Loss:     0.2161 Validation accuracy: 0.697000\n",
      "Epoch 30, CIFAR-10 Batch 2:  Loss:     0.2393 Validation accuracy: 0.692200\n",
      "Epoch 30, CIFAR-10 Batch 3:  Loss:     0.2500 Validation accuracy: 0.705000\n",
      "Epoch 30, CIFAR-10 Batch 4:  Loss:     0.1880 Validation accuracy: 0.692400\n",
      "Epoch 30, CIFAR-10 Batch 5:  Loss:     0.1773 Validation accuracy: 0.701600\n",
      "Epoch 31, CIFAR-10 Batch 1:  Loss:     0.2184 Validation accuracy: 0.688000\n",
      "Epoch 31, CIFAR-10 Batch 2:  Loss:     0.2155 Validation accuracy: 0.692600\n",
      "Epoch 31, CIFAR-10 Batch 3:  Loss:     0.2171 Validation accuracy: 0.699800\n",
      "Epoch 31, CIFAR-10 Batch 4:  Loss:     0.1835 Validation accuracy: 0.694600\n",
      "Epoch 31, CIFAR-10 Batch 5:  Loss:     0.1628 Validation accuracy: 0.698200\n",
      "Epoch 32, CIFAR-10 Batch 1:  Loss:     0.2272 Validation accuracy: 0.693200\n",
      "Epoch 32, CIFAR-10 Batch 2:  Loss:     0.2156 Validation accuracy: 0.687200\n",
      "Epoch 32, CIFAR-10 Batch 3:  Loss:     0.2183 Validation accuracy: 0.696000\n",
      "Epoch 32, CIFAR-10 Batch 4:  Loss:     0.1716 Validation accuracy: 0.697200\n",
      "Epoch 32, CIFAR-10 Batch 5:  Loss:     0.1635 Validation accuracy: 0.703600\n",
      "Epoch 33, CIFAR-10 Batch 1:  Loss:     0.2063 Validation accuracy: 0.688200\n",
      "Epoch 33, CIFAR-10 Batch 2:  Loss:     0.1988 Validation accuracy: 0.692800\n",
      "Epoch 33, CIFAR-10 Batch 3:  Loss:     0.1814 Validation accuracy: 0.704600\n",
      "Epoch 33, CIFAR-10 Batch 4:  Loss:     0.1626 Validation accuracy: 0.686400\n",
      "Epoch 33, CIFAR-10 Batch 5:  Loss:     0.1626 Validation accuracy: 0.688000\n",
      "Epoch 34, CIFAR-10 Batch 1:  Loss:     0.1841 Validation accuracy: 0.694800\n",
      "Epoch 34, CIFAR-10 Batch 2:  Loss:     0.1938 Validation accuracy: 0.694000\n",
      "Epoch 34, CIFAR-10 Batch 3:  Loss:     0.2067 Validation accuracy: 0.689600\n",
      "Epoch 34, CIFAR-10 Batch 4:  Loss:     0.1791 Validation accuracy: 0.692800\n",
      "Epoch 34, CIFAR-10 Batch 5:  Loss:     0.1728 Validation accuracy: 0.689400\n",
      "Epoch 35, CIFAR-10 Batch 1:  Loss:     0.1560 Validation accuracy: 0.701000\n",
      "Epoch 35, CIFAR-10 Batch 2:  Loss:     0.1932 Validation accuracy: 0.687800\n",
      "Epoch 35, CIFAR-10 Batch 3:  Loss:     0.1834 Validation accuracy: 0.695600\n",
      "Epoch 35, CIFAR-10 Batch 4:  Loss:     0.1798 Validation accuracy: 0.707400\n",
      "Epoch 35, CIFAR-10 Batch 5:  Loss:     0.1676 Validation accuracy: 0.699800\n"
     ]
    }
   ],
   "source": [
    "\"\"\"\n",
    "DON'T MODIFY ANYTHING IN THIS CELL\n",
    "\"\"\"\n",
    "save_model_path = './image_classification'\n",
    "\n",
    "print('Training...')\n",
    "with tf.Session() as sess:\n",
    "    # Initializing the variables\n",
    "    sess.run(tf.global_variables_initializer())\n",
    "    \n",
    "    # Training cycle\n",
    "    for epoch in range(epochs):\n",
    "        # Loop over all batches\n",
    "        n_batches = 5\n",
    "        for batch_i in range(1, n_batches + 1):\n",
    "            for batch_features, batch_labels in helper.load_preprocess_training_batch(batch_i, batch_size):\n",
    "                train_neural_network(sess, optimizer, keep_probability, batch_features, batch_labels)\n",
    "            print('Epoch {:>2}, CIFAR-10 Batch {}:  '.format(epoch + 1, batch_i), end='')\n",
    "            print_stats(sess, batch_features, batch_labels, cost, accuracy)\n",
    "            \n",
    "    # Save Model\n",
    "    saver = tf.train.Saver()\n",
    "    save_path = saver.save(sess, save_model_path)"
   ]
  },
  {
   "cell_type": "markdown",
   "metadata": {},
   "source": [
    "# Checkpoint\n",
    "The model has been saved to disk.\n",
    "## Test Model\n",
    "Test your model against the test dataset.  This will be your final accuracy. You should have an accuracy greater than 50%. If you don't, keep tweaking the model architecture and parameters."
   ]
  },
  {
   "cell_type": "code",
   "execution_count": 54,
   "metadata": {},
   "outputs": [
    {
     "name": "stdout",
     "output_type": "stream",
     "text": [
      "INFO:tensorflow:Restoring parameters from ./image_classification\n",
      "Testing Accuracy: 0.6882295489311219\n",
      "\n"
     ]
    },
    {
     "data": {
      "image/png": "[encoded data removed]",
      "text/plain": [
       "<matplotlib.figure.Figure at 0x2bc82abc080>"
      ]
     },
     "metadata": {
      "image/png": {
       "height": 319,
       "width": 355
      }
     },
     "output_type": "display_data"
    }
   ],
   "source": [
    "\"\"\"\n",
    "DON'T MODIFY ANYTHING IN THIS CELL\n",
    "\"\"\"\n",
    "%matplotlib inline\n",
    "%config InlineBackend.figure_format = 'retina'\n",
    "\n",
    "import tensorflow as tf\n",
    "import pickle\n",
    "import helper\n",
    "import random\n",
    "\n",
    "# Set batch size if not already set\n",
    "try:\n",
    "    if batch_size:\n",
    "        pass\n",
    "except NameError:\n",
    "    batch_size = 64\n",
    "\n",
    "save_model_path = './image_classification'\n",
    "n_samples = 4\n",
    "top_n_predictions = 3\n",
    "\n",
    "def test_model():\n",
    "    \"\"\"\n",
    "    Test the saved model against the test dataset\n",
    "    \"\"\"\n",
    "\n",
    "    test_features, test_labels = pickle.load(open('preprocess_training.p', mode='rb'))\n",
    "    loaded_graph = tf.Graph()\n",
    "\n",
    "    with tf.Session(graph=loaded_graph) as sess:\n",
    "        # Load model\n",
    "        loader = tf.train.import_meta_graph(save_model_path + '.meta')\n",
    "        loader.restore(sess, save_model_path)\n",
    "\n",
    "        # Get Tensors from loaded model\n",
    "        loaded_x = loaded_graph.get_tensor_by_name('x:0')\n",
    "        loaded_y = loaded_graph.get_tensor_by_name('y:0')\n",
    "        loaded_keep_prob = loaded_graph.get_tensor_by_name('keep_prob:0')\n",
    "        loaded_logits = loaded_graph.get_tensor_by_name('logits:0')\n",
    "        loaded_acc = loaded_graph.get_tensor_by_name('accuracy:0')\n",
    "        \n",
    "        # Get accuracy in batches for memory limitations\n",
    "        test_batch_acc_total = 0\n",
    "        test_batch_count = 0\n",
    "        \n",
    "        for train_feature_batch, train_label_batch in helper.batch_features_labels(test_features, test_labels, batch_size):\n",
    "            test_batch_acc_total += sess.run(\n",
    "                loaded_acc,\n",
    "                feed_dict={loaded_x: train_feature_batch, loaded_y: train_label_batch, loaded_keep_prob: 1.0})\n",
    "            test_batch_count += 1\n",
    "\n",
    "        print('Testing Accuracy: {}\\n'.format(test_batch_acc_total/test_batch_count))\n",
    "\n",
    "        # Print Random Samples\n",
    "        random_test_features, random_test_labels = tuple(zip(*random.sample(list(zip(test_features, test_labels)), n_samples)))\n",
    "        random_test_predictions = sess.run(\n",
    "            tf.nn.top_k(tf.nn.softmax(loaded_logits), top_n_predictions),\n",
    "            feed_dict={loaded_x: random_test_features, loaded_y: random_test_labels, loaded_keep_prob: 1.0})\n",
    "        helper.display_image_predictions(random_test_features, random_test_labels, random_test_predictions)\n",
    "\n",
    "\n",
    "test_model()"
   ]
  },
  {
   "cell_type": "markdown",
   "metadata": {},
   "source": [
    "## Why 50-80% Accuracy?\n",
    "You might be wondering why you can't get an accuracy any higher. First things first, 50% isn't bad for a simple CNN.  Pure guessing would get you 10% accuracy. That's because there are many more techniques that can be applied to your model and we recemmond that once you are done with this project, you explore!\n",
    "\n",
    "## Submitting This Project\n",
    "When submitting this project, make sure to run all the cells before saving the notebook.  Save the notebook file as \"dlnd_image_classification.ipynb\" and save it as a HTML file under \"File\" -> \"Download as\".  Include the \"helper.py\" and \"problem_unittests.py\" files in your submission."
   ]
  },
  {
   "cell_type": "code",
   "execution_count": null,
   "metadata": {
    "collapsed": true
   },
   "outputs": [],
   "source": []
  }
 ],
 "metadata": {
  "kernelspec": {
   "display_name": "Python 3",
   "language": "python",
   "name": "python3"
  },
  "language_info": {
   "codemirror_mode": {
    "name": "ipython",
    "version": 3
   },
   "file_extension": ".py",
   "mimetype": "text/x-python",
   "name": "python",
   "nbconvert_exporter": "python",
   "pygments_lexer": "ipython3",
   "version": "3.6.1"
  }
 },
 "nbformat": 4,
 "nbformat_minor": 1
}
